{
 "cells": [
  {
   "cell_type": "markdown",
   "metadata": {},
   "source": [
    "# Téléchargment des vecteurs de mots pré-entraîné word2vec pour le corpus Google"
   ]
  },
  {
   "cell_type": "code",
   "execution_count": 2,
   "metadata": {},
   "outputs": [],
   "source": [
    "import zipfile\n",
    "import os\n",
    "\n",
    "# Chemin vers le fichier ZIP téléchargé\n",
    "zip_file_path = \"googlenewsvectorsnegative300.zip\"\n",
    "\n",
    "# Répertoire où vous souhaitez extraire les fichiers\n",
    "extract_to_directory = \"./\"\n",
    "os.makedirs(extract_to_directory, exist_ok=True)\n",
    "\n",
    "with zipfile.ZipFile(zip_file_path, 'r') as zip_ref:\n",
    "    zip_ref.extractall(extract_to_directory)"
   ]
  },
  {
   "cell_type": "markdown",
   "metadata": {},
   "source": [
    "# Déclaration des constantes"
   ]
  },
  {
   "cell_type": "code",
   "execution_count": 1,
   "metadata": {},
   "outputs": [],
   "source": [
    "from nltk.tokenize import TweetTokenizer\n",
    "from nltk.stem import WordNetLemmatizer \n",
    "from nltk.corpus import stopwords\n",
    "from string import punctuation \n",
    "\n",
    "label_to_numeric_3 = {'Positive': 1, 'Neutral': 0, 'Negative': -1}\n",
    "\n",
    "tknzr = TweetTokenizer()\n",
    "lemmatizer = WordNetLemmatizer()\n",
    "notstopwords = set(('not', 'no', 'never', 'nor'))\n",
    "stop_words = set(stopwords.words('english')) - notstopwords\n",
    "\n",
    "EMBEDDING_DIM = 300\n",
    "EMBEDDING_FILE = \"GoogleNews-vectors-negative300.bin\"\n",
    "\n",
    "Dim = 300\n",
    "Unit = 64\n",
    "\n",
    "label_to_numeric_7 = {\n",
    "    '-3: very negative emotional state can be inferred': -3,\n",
    "    '-2: moderately negative emotional state can be inferred': -2,\n",
    "    '-1: slightly negative emotional state can be inferred': -1,\n",
    "    '0: neutral or mixed emotional state can be inferred': 0,\n",
    "    '1: slightly positive emotional state can be inferred': 1,\n",
    "    '2: moderately positive emotional state can be inferred': 2,\n",
    "    '3: very positive emotional state can be inferred': 3\n",
    "}"
   ]
  },
  {
   "cell_type": "markdown",
   "metadata": {},
   "source": [
    "# Déclaration des différentes fonctions nécessaires"
   ]
  },
  {
   "cell_type": "code",
   "execution_count": 2,
   "metadata": {},
   "outputs": [],
   "source": [
    "import re\n",
    "import numpy as np\n",
    "import pandas as pd\n",
    "import matplotlib.pyplot as plt\n",
    "from scipy.stats import pearsonr as stats_pearsonr\n",
    "\n",
    "import tensorflow as tf\n",
    "from tensorflow.keras.preprocessing.text import Tokenizer\n",
    "from tensorflow.keras.layers import Input, Embedding, LSTM, GlobalMaxPooling1D, Dense, Bidirectional, Dropout\n",
    "from tensorflow.keras.models import Model, Sequential\n",
    "from tensorflow.keras.utils import to_categorical\n",
    "from tensorflow.keras.initializers import Constant\n",
    "from tensorflow.keras.callbacks import EarlyStopping\n",
    "\n",
    "\n",
    "from sklearn.model_selection import train_test_split\n",
    "from sklearn.metrics import accuracy_score\n",
    "\n",
    "from nltk import pos_tag\n",
    "\n",
    "from gensim.models import KeyedVectors\n",
    "from keras.preprocessing.sequence import pad_sequences\n",
    "\n",
    "def read_data_source(file_path):\n",
    "    df = pd.read_csv(file_path)\n",
    "    df.dropna(inplace=True)\n",
    "    df = df.drop(df.columns[[0, 1]], axis=1)\n",
    "    df = df[df['label'] != 'irrelevant']\n",
    "    df['label'] = df['label'].map(label_to_numeric_3)\n",
    "    df = df[df['label'].isin([0, 1, -1])]\n",
    "    return df\n",
    "\n",
    "def text_cleaning(tweet):\n",
    "    tweet = re.sub(r'@[A-Za-z0-9]+', '', tweet)    \n",
    "    tweet = re.sub(r'@[A-Za-zA-Z0-9]+', '', tweet)  \n",
    "    tweet = re.sub(r'@[A-Za-z]+', '', tweet)       \n",
    "    tweet = re.sub(r'@[-)]+', '', tweet)            \n",
    "    tweet = re.sub(r'#', '', tweet)              \n",
    "    tweet = re.sub(r'RT[\\s]+', '', tweet)          \n",
    "    tweet = re.sub(r\" (http|https) ?:\\/\\/[a-zA-Z0-9\\.-]+\\. [a-zA-Z]{2,4}(/\\S*)?\", \" \", tweet)\n",
    "    tweet = re.sub(r\"\\'ve\", \" have\", tweet)\n",
    "    tweet = re.sub(r\" can\\'t\", \"cannot\", tweet)\n",
    "    tweet = re.sub(r\"n\\'t\", \"not\", tweet)\n",
    "    tweet = re.sub(r\"\\'re\", \" are\", tweet)\n",
    "    tweet = re.sub(r\"\\'d\", \" would\", tweet)\n",
    "    tweet = re.sub(r\"\\'ll\", \" will\", tweet)\n",
    "    tweet = re.sub(r\"\\'s\", \"\", tweet)\n",
    "    tweet = re.sub(r\"\\'n\", \"\", tweet)\n",
    "    tweet = re.sub(r\"\\'m\", \" am\", tweet)\n",
    "    tweet = re.sub(r\"@\\w+\", r' ', tweet)\n",
    "    tweet = re.sub(r\"#\\w+\", r' ', tweet)\n",
    "    tweet = re.sub(r\" [0-9]+\", \",\", tweet)\n",
    "    tweet = re.sub(r'&[a-z;]+', '', tweet)       \n",
    "    tweet = re.sub(r\"\\\\u2019\", \"'\", tweet)\n",
    "    tweet = re.sub(r\"\\\\u002c\", \"'\", tweet)\n",
    "    tweet = [lemmatizer.lemmatize(i,j[0].lower()) if j[0].lower() in ['a', 'n', 'v'] else \n",
    "             lemmatizer.lemmatize(i) for i,j in pos_tag(tknzr.tokenize(tweet))]\n",
    "    tweet = [i for i in tweet if (i not in stop_words) and (i not in punctuation)]\n",
    "    tweet = ' '.join(tweet)\n",
    "    return tweet\n",
    "\n",
    "def split_data(data):\n",
    "    return (data['tweet'], data['label'])\n",
    "\n",
    "def tokenize_tweets(x_train):\n",
    "    max_vocab = 20000000\n",
    "    tokenizer = Tokenizer(num_words=max_vocab)\n",
    "    tokenizer.fit_on_texts(x_train)\n",
    "    return tokenizer\n",
    "\n",
    "def get_vocab_size(tokenizer):\n",
    "    wordidx = tokenizer.word_index\n",
    "    return (wordidx, len(wordidx))\n",
    "\n",
    "def sequence_tweets(tokenizer, x_train, x_test):\n",
    "    return (tokenizer.texts_to_sequences(x_train),tokenizer.texts_to_sequences(x_test))\n",
    "\n",
    "def align_sequences(train_seq, test_seq):\n",
    "    return (pad_sequences(train_seq), pad_sequences(train_seq).shape[1], pad_sequences(test_seq, maxlen=pad_sequences(train_seq).shape[1]))\n",
    "\n",
    "def create_embedding_matrix(V, wordidx):\n",
    "    oov=[]\n",
    "    oov.append((np.random.rand(EMBEDDING_DIM) * 2.0) - 1.0)\n",
    "    oov = oov / np.linalg.norm(oov)\n",
    "    embedding_matrix = np.zeros((V + 1, EMBEDDING_DIM))\n",
    "    word2vec = KeyedVectors.load_word2vec_format(EMBEDDING_FILE, binary=True)\n",
    "\n",
    "    for word, i in wordidx.items():\n",
    "        if word in word2vec.key_to_index:\n",
    "            embedding_matrix[i] = word2vec.get_vector(word)\n",
    "        else:\n",
    "            embedding_matrix[i] = oov\n",
    "    return embedding_matrix\n",
    "\n",
    "def model_3(T, V, embedding_matrix):\n",
    "    model = Sequential()\n",
    "    model.add(Input(shape=(T,), name='input'))\n",
    "    model.add(Embedding(V + 1, Dim, embeddings_initializer=Constant(embedding_matrix), trainable=True))\n",
    "    model.add(Bidirectional(LSTM(Unit, return_sequences=True), name='bidirectional_lstm_1'))\n",
    "    model.add(Dropout(0.5, name='dropout_1'))\n",
    "    model.add(Bidirectional(LSTM(Unit, return_sequences=True), name='bidirectional_lstm_2'))\n",
    "    model.add(GlobalMaxPooling1D(name='global_max_pooling'))\n",
    "    model.add(Dense(32, activation='relu', name='dense_1'))\n",
    "    model.add(Dense(3, activation='softmax', name='dense_2'))\n",
    "    \n",
    "    for i in range(len(model.weights)):\n",
    "        model.weights[i]._handle_name = model.weights[i].name + \"_\" + str(i)\n",
    "            \n",
    "    tf.keras.backend.clear_session()\n",
    "    return model\n",
    "\n",
    "def encode_y(y_train, y_test, n):\n",
    "    return (to_categorical(y_train, num_classes=n), to_categorical(y_test, num_classes=n))\n",
    "\n",
    "def train_model_3(model, pad_train, pad_test, y_train, y_test, epochs, nb_class):\n",
    "    early_stopping = EarlyStopping(monitor='val_loss', patience=2, restore_best_weights=True)\n",
    "    y_train_one_hot, y_test_one_hot = encode_y(y_train, y_test, nb_class)\n",
    "\n",
    "    return model.fit(pad_train, y_train_one_hot, validation_data=(pad_test, y_test_one_hot), epochs=epochs, callbacks=[early_stopping])\n",
    "\n",
    "def training_accuracy(trained_model):\n",
    "    plt.plot(trained_model.history['accuracy'], label= 'accuracy')\n",
    "    plt.plot(trained_model.history['val_accuracy'], label='val_accuracy')\n",
    "    plt.legend()\n",
    "    \n",
    "def saving_model(model):\n",
    "    model.save('model.h5')\n",
    "\n",
    "def evaluate(y_pred, y_val_one_hot):\n",
    "    y_pred_argmax = y_pred.argmax(axis=1)\n",
    "    y_val_argmax = y_val_one_hot.argmax(axis=1)\n",
    "    return stats_pearsonr(y_pred_argmax, y_val_argmax)\n",
    "\n",
    "def read_data_cible(file_path):\n",
    "    data = pd.read_csv('data_seven/data_train.csv', sep='\\t')\n",
    "    data.dropna(inplace=True)\n",
    "    data['label'] = data['label'].map(label_to_numeric_7)\n",
    "    return data"
   ]
  },
  {
   "cell_type": "markdown",
   "metadata": {},
   "source": [
    "# Classification en 3 classes"
   ]
  },
  {
   "cell_type": "markdown",
   "metadata": {},
   "source": [
    "## Import des données et pré-traitements"
   ]
  },
  {
   "cell_type": "code",
   "execution_count": 3,
   "metadata": {},
   "outputs": [],
   "source": [
    "data = read_data_source('data_three/twitter_training.csv')\n",
    "\n",
    "X, y = split_data(data)\n",
    "\n",
    "X = X.apply(text_cleaning)\n",
    "\n",
    "x_train, x_test, y_train, y_test = train_test_split(X.values, y.values, test_size=0.20)\n",
    "\n",
    "tokenizer = tokenize_tweets(x_train)\n",
    "\n",
    "wordidx, V = get_vocab_size(tokenizer)\n",
    "\n",
    "train_seq, test_seq = sequence_tweets(tokenizer, x_train, x_test)\n",
    "\n",
    "pad_train, T, pad_test = align_sequences(train_seq, test_seq)"
   ]
  },
  {
   "cell_type": "markdown",
   "metadata": {},
   "source": [
    "## Mise en place et entrainement du modèle"
   ]
  },
  {
   "cell_type": "code",
   "execution_count": 4,
   "metadata": {},
   "outputs": [
    {
     "name": "stdout",
     "output_type": "stream",
     "text": [
      "WARNING:tensorflow:From c:\\python\\Lib\\site-packages\\keras\\src\\backend\\common\\global_state.py:73: The name tf.reset_default_graph is deprecated. Please use tf.compat.v1.reset_default_graph instead.\n",
      "\n"
     ]
    },
    {
     "data": {
      "text/html": [
       "<pre style=\"white-space:pre;overflow-x:auto;line-height:normal;font-family:Menlo,'DejaVu Sans Mono',consolas,'Courier New',monospace\"><span style=\"font-weight: bold\">Model: \"sequential\"</span>\n",
       "</pre>\n"
      ],
      "text/plain": [
       "\u001b[1mModel: \"sequential\"\u001b[0m\n"
      ]
     },
     "metadata": {},
     "output_type": "display_data"
    },
    {
     "data": {
      "text/html": [
       "<pre style=\"white-space:pre;overflow-x:auto;line-height:normal;font-family:Menlo,'DejaVu Sans Mono',consolas,'Courier New',monospace\">┏━━━━━━━━━━━━━━━━━━━━━━━━━━━━━━━━━┳━━━━━━━━━━━━━━━━━━━━━━━━┳━━━━━━━━━━━━━━━┓\n",
       "┃<span style=\"font-weight: bold\"> Layer (type)                    </span>┃<span style=\"font-weight: bold\"> Output Shape           </span>┃<span style=\"font-weight: bold\">       Param # </span>┃\n",
       "┡━━━━━━━━━━━━━━━━━━━━━━━━━━━━━━━━━╇━━━━━━━━━━━━━━━━━━━━━━━━╇━━━━━━━━━━━━━━━┩\n",
       "│ embedding (<span style=\"color: #0087ff; text-decoration-color: #0087ff\">Embedding</span>)           │ (<span style=\"color: #00d7ff; text-decoration-color: #00d7ff\">None</span>, <span style=\"color: #00af00; text-decoration-color: #00af00\">166</span>, <span style=\"color: #00af00; text-decoration-color: #00af00\">300</span>)       │     <span style=\"color: #00af00; text-decoration-color: #00af00\">7,697,400</span> │\n",
       "├─────────────────────────────────┼────────────────────────┼───────────────┤\n",
       "│ bidirectional_lstm_1            │ (<span style=\"color: #00d7ff; text-decoration-color: #00d7ff\">None</span>, <span style=\"color: #00af00; text-decoration-color: #00af00\">166</span>, <span style=\"color: #00af00; text-decoration-color: #00af00\">128</span>)       │       <span style=\"color: #00af00; text-decoration-color: #00af00\">186,880</span> │\n",
       "│ (<span style=\"color: #0087ff; text-decoration-color: #0087ff\">Bidirectional</span>)                 │                        │               │\n",
       "├─────────────────────────────────┼────────────────────────┼───────────────┤\n",
       "│ dropout_1 (<span style=\"color: #0087ff; text-decoration-color: #0087ff\">Dropout</span>)             │ (<span style=\"color: #00d7ff; text-decoration-color: #00d7ff\">None</span>, <span style=\"color: #00af00; text-decoration-color: #00af00\">166</span>, <span style=\"color: #00af00; text-decoration-color: #00af00\">128</span>)       │             <span style=\"color: #00af00; text-decoration-color: #00af00\">0</span> │\n",
       "├─────────────────────────────────┼────────────────────────┼───────────────┤\n",
       "│ bidirectional_lstm_2            │ (<span style=\"color: #00d7ff; text-decoration-color: #00d7ff\">None</span>, <span style=\"color: #00af00; text-decoration-color: #00af00\">166</span>, <span style=\"color: #00af00; text-decoration-color: #00af00\">128</span>)       │        <span style=\"color: #00af00; text-decoration-color: #00af00\">98,816</span> │\n",
       "│ (<span style=\"color: #0087ff; text-decoration-color: #0087ff\">Bidirectional</span>)                 │                        │               │\n",
       "├─────────────────────────────────┼────────────────────────┼───────────────┤\n",
       "│ global_max_pooling              │ (<span style=\"color: #00d7ff; text-decoration-color: #00d7ff\">None</span>, <span style=\"color: #00af00; text-decoration-color: #00af00\">128</span>)            │             <span style=\"color: #00af00; text-decoration-color: #00af00\">0</span> │\n",
       "│ (<span style=\"color: #0087ff; text-decoration-color: #0087ff\">GlobalMaxPooling1D</span>)            │                        │               │\n",
       "├─────────────────────────────────┼────────────────────────┼───────────────┤\n",
       "│ dense_1 (<span style=\"color: #0087ff; text-decoration-color: #0087ff\">Dense</span>)                 │ (<span style=\"color: #00d7ff; text-decoration-color: #00d7ff\">None</span>, <span style=\"color: #00af00; text-decoration-color: #00af00\">32</span>)             │         <span style=\"color: #00af00; text-decoration-color: #00af00\">4,128</span> │\n",
       "├─────────────────────────────────┼────────────────────────┼───────────────┤\n",
       "│ dense_2 (<span style=\"color: #0087ff; text-decoration-color: #0087ff\">Dense</span>)                 │ (<span style=\"color: #00d7ff; text-decoration-color: #00d7ff\">None</span>, <span style=\"color: #00af00; text-decoration-color: #00af00\">3</span>)              │            <span style=\"color: #00af00; text-decoration-color: #00af00\">99</span> │\n",
       "└─────────────────────────────────┴────────────────────────┴───────────────┘\n",
       "</pre>\n"
      ],
      "text/plain": [
       "┏━━━━━━━━━━━━━━━━━━━━━━━━━━━━━━━━━┳━━━━━━━━━━━━━━━━━━━━━━━━┳━━━━━━━━━━━━━━━┓\n",
       "┃\u001b[1m \u001b[0m\u001b[1mLayer (type)                   \u001b[0m\u001b[1m \u001b[0m┃\u001b[1m \u001b[0m\u001b[1mOutput Shape          \u001b[0m\u001b[1m \u001b[0m┃\u001b[1m \u001b[0m\u001b[1m      Param #\u001b[0m\u001b[1m \u001b[0m┃\n",
       "┡━━━━━━━━━━━━━━━━━━━━━━━━━━━━━━━━━╇━━━━━━━━━━━━━━━━━━━━━━━━╇━━━━━━━━━━━━━━━┩\n",
       "│ embedding (\u001b[38;5;33mEmbedding\u001b[0m)           │ (\u001b[38;5;45mNone\u001b[0m, \u001b[38;5;34m166\u001b[0m, \u001b[38;5;34m300\u001b[0m)       │     \u001b[38;5;34m7,697,400\u001b[0m │\n",
       "├─────────────────────────────────┼────────────────────────┼───────────────┤\n",
       "│ bidirectional_lstm_1            │ (\u001b[38;5;45mNone\u001b[0m, \u001b[38;5;34m166\u001b[0m, \u001b[38;5;34m128\u001b[0m)       │       \u001b[38;5;34m186,880\u001b[0m │\n",
       "│ (\u001b[38;5;33mBidirectional\u001b[0m)                 │                        │               │\n",
       "├─────────────────────────────────┼────────────────────────┼───────────────┤\n",
       "│ dropout_1 (\u001b[38;5;33mDropout\u001b[0m)             │ (\u001b[38;5;45mNone\u001b[0m, \u001b[38;5;34m166\u001b[0m, \u001b[38;5;34m128\u001b[0m)       │             \u001b[38;5;34m0\u001b[0m │\n",
       "├─────────────────────────────────┼────────────────────────┼───────────────┤\n",
       "│ bidirectional_lstm_2            │ (\u001b[38;5;45mNone\u001b[0m, \u001b[38;5;34m166\u001b[0m, \u001b[38;5;34m128\u001b[0m)       │        \u001b[38;5;34m98,816\u001b[0m │\n",
       "│ (\u001b[38;5;33mBidirectional\u001b[0m)                 │                        │               │\n",
       "├─────────────────────────────────┼────────────────────────┼───────────────┤\n",
       "│ global_max_pooling              │ (\u001b[38;5;45mNone\u001b[0m, \u001b[38;5;34m128\u001b[0m)            │             \u001b[38;5;34m0\u001b[0m │\n",
       "│ (\u001b[38;5;33mGlobalMaxPooling1D\u001b[0m)            │                        │               │\n",
       "├─────────────────────────────────┼────────────────────────┼───────────────┤\n",
       "│ dense_1 (\u001b[38;5;33mDense\u001b[0m)                 │ (\u001b[38;5;45mNone\u001b[0m, \u001b[38;5;34m32\u001b[0m)             │         \u001b[38;5;34m4,128\u001b[0m │\n",
       "├─────────────────────────────────┼────────────────────────┼───────────────┤\n",
       "│ dense_2 (\u001b[38;5;33mDense\u001b[0m)                 │ (\u001b[38;5;45mNone\u001b[0m, \u001b[38;5;34m3\u001b[0m)              │            \u001b[38;5;34m99\u001b[0m │\n",
       "└─────────────────────────────────┴────────────────────────┴───────────────┘\n"
      ]
     },
     "metadata": {},
     "output_type": "display_data"
    },
    {
     "data": {
      "text/html": [
       "<pre style=\"white-space:pre;overflow-x:auto;line-height:normal;font-family:Menlo,'DejaVu Sans Mono',consolas,'Courier New',monospace\"><span style=\"font-weight: bold\"> Total params: </span><span style=\"color: #00af00; text-decoration-color: #00af00\">7,987,323</span> (30.47 MB)\n",
       "</pre>\n"
      ],
      "text/plain": [
       "\u001b[1m Total params: \u001b[0m\u001b[38;5;34m7,987,323\u001b[0m (30.47 MB)\n"
      ]
     },
     "metadata": {},
     "output_type": "display_data"
    },
    {
     "data": {
      "text/html": [
       "<pre style=\"white-space:pre;overflow-x:auto;line-height:normal;font-family:Menlo,'DejaVu Sans Mono',consolas,'Courier New',monospace\"><span style=\"font-weight: bold\"> Trainable params: </span><span style=\"color: #00af00; text-decoration-color: #00af00\">7,987,323</span> (30.47 MB)\n",
       "</pre>\n"
      ],
      "text/plain": [
       "\u001b[1m Trainable params: \u001b[0m\u001b[38;5;34m7,987,323\u001b[0m (30.47 MB)\n"
      ]
     },
     "metadata": {},
     "output_type": "display_data"
    },
    {
     "data": {
      "text/html": [
       "<pre style=\"white-space:pre;overflow-x:auto;line-height:normal;font-family:Menlo,'DejaVu Sans Mono',consolas,'Courier New',monospace\"><span style=\"font-weight: bold\"> Non-trainable params: </span><span style=\"color: #00af00; text-decoration-color: #00af00\">0</span> (0.00 B)\n",
       "</pre>\n"
      ],
      "text/plain": [
       "\u001b[1m Non-trainable params: \u001b[0m\u001b[38;5;34m0\u001b[0m (0.00 B)\n"
      ]
     },
     "metadata": {},
     "output_type": "display_data"
    },
    {
     "name": "stdout",
     "output_type": "stream",
     "text": [
      "Epoch 1/3\n",
      "\u001b[1m1528/1528\u001b[0m \u001b[32m━━━━━━━━━━━━━━━━━━━━\u001b[0m\u001b[37m\u001b[0m \u001b[1m305s\u001b[0m 196ms/step - accuracy: 0.6656 - loss: 0.7563 - val_accuracy: 0.8513 - val_loss: 0.3896\n",
      "Epoch 2/3\n",
      "\u001b[1m1528/1528\u001b[0m \u001b[32m━━━━━━━━━━━━━━━━━━━━\u001b[0m\u001b[37m\u001b[0m \u001b[1m325s\u001b[0m 213ms/step - accuracy: 0.8971 - loss: 0.2671 - val_accuracy: 0.8918 - val_loss: 0.2809\n",
      "Epoch 3/3\n",
      "\u001b[1m1528/1528\u001b[0m \u001b[32m━━━━━━━━━━━━━━━━━━━━\u001b[0m\u001b[37m\u001b[0m \u001b[1m530s\u001b[0m 347ms/step - accuracy: 0.9391 - loss: 0.1495 - val_accuracy: 0.9001 - val_loss: 0.2787\n"
     ]
    },
    {
     "data": {
      "image/png": "[encoded data removed]",
      "text/plain": [
       "<Figure size 640x480 with 1 Axes>"
      ]
     },
     "metadata": {},
     "output_type": "display_data"
    }
   ],
   "source": [
    "embedding_matrix = create_embedding_matrix(V, wordidx)\n",
    "\n",
    "model = model_3(T, V, embedding_matrix)\n",
    "model.compile(optimizer='adam', loss='categorical_crossentropy', metrics=['accuracy'])\n",
    "\n",
    "model.summary()\n",
    "\n",
    "r = train_model_3(model, pad_train, pad_test, y_train, y_test, 3, 3)\n",
    "\n",
    "training_accuracy(r)"
   ]
  },
  {
   "cell_type": "markdown",
   "metadata": {},
   "source": [
    "## Sauvegarde des poids du modèle"
   ]
  },
  {
   "cell_type": "code",
   "execution_count": 5,
   "metadata": {},
   "outputs": [],
   "source": [
    "model.save_weights('poids_modele.weights.h5')"
   ]
  },
  {
   "cell_type": "markdown",
   "metadata": {},
   "source": [
    "## Validation du modèle"
   ]
  },
  {
   "cell_type": "code",
   "execution_count": 6,
   "metadata": {},
   "outputs": [
    {
     "name": "stderr",
     "output_type": "stream",
     "text": [
      "c:\\python\\Lib\\site-packages\\keras\\src\\saving\\saving_lib.py:396: UserWarning: Skipping variable loading for optimizer 'adam', because it has 2 variables whereas the saved optimizer has 36 variables. \n",
      "  trackable.load_own_variables(weights_store.get(inner_path))\n"
     ]
    },
    {
     "name": "stdout",
     "output_type": "stream",
     "text": [
      "\u001b[1m26/26\u001b[0m \u001b[32m━━━━━━━━━━━━━━━━━━━━\u001b[0m\u001b[37m\u001b[0m \u001b[1m5s\u001b[0m 166ms/step\n",
      "Corrélation de rang de Pearson : 0.9294724438735832\n"
     ]
    }
   ],
   "source": [
    "model1 = model_3(T, V, embedding_matrix)\n",
    "model1.compile(optimizer='adam', loss='categorical_crossentropy', metrics=['accuracy'])\n",
    "model1.load_weights('poids_modele.weights.h5')\n",
    "\n",
    "data_val = read_data_source('data_three/twitter_validation.csv')\n",
    "\n",
    "X_val, y_val = split_data(data_val)\n",
    "\n",
    "X_val = X_val.apply(text_cleaning)\n",
    "\n",
    "y_val_one_hot = to_categorical(y_val, num_classes=3)\n",
    "\n",
    "X_val_seq = tokenizer.texts_to_sequences(X_val)\n",
    "\n",
    "X_val_pad = pad_sequences(X_val_seq, maxlen=T)\n",
    "\n",
    "y_pred = model1.predict(X_val_pad)\n",
    "\n",
    "pearsonr_value, _ = evaluate(y_pred, y_val_one_hot)\n",
    "print(\"Corrélation de rang de Pearson :\", pearsonr_value)"
   ]
  },
  {
   "cell_type": "markdown",
   "metadata": {},
   "source": [
    "# Transfert Learning : Classification en 7 classes"
   ]
  },
  {
   "cell_type": "markdown",
   "metadata": {},
   "source": [
    "## Import des données et pré-traitements"
   ]
  },
  {
   "cell_type": "code",
   "execution_count": 7,
   "metadata": {},
   "outputs": [],
   "source": [
    "data_7 = read_data_cible('data_seven/data_train.csv')\n",
    "\n",
    "X_7, y_7 = split_data(data_7)\n",
    "\n",
    "X_7 = X_7.apply(text_cleaning)\n",
    "\n",
    "x_train_7, x_test_7, y_train_7, y_test_7 = train_test_split(X_7.values, y_7.values, test_size=0.2)\n",
    "\n",
    "tokenizer_7 = tokenize_tweets(x_train_7)\n",
    "\n",
    "wordidx_7, V_7 = get_vocab_size(tokenizer_7)\n",
    "\n",
    "train_seq_7, test_seq_7 = sequence_tweets(tokenizer_7, x_train_7, x_test_7)\n",
    "\n",
    "pad_train_7, T_7, pad_test_7 = align_sequences(train_seq_7, test_seq_7)"
   ]
  },
  {
   "cell_type": "markdown",
   "metadata": {},
   "source": [
    "## Mise en place et entrainement du modèle"
   ]
  },
  {
   "cell_type": "code",
   "execution_count": 9,
   "metadata": {},
   "outputs": [
    {
     "data": {
      "text/html": [
       "<pre style=\"white-space:pre;overflow-x:auto;line-height:normal;font-family:Menlo,'DejaVu Sans Mono',consolas,'Courier New',monospace\"><span style=\"font-weight: bold\">Model: \"sequential\"</span>\n",
       "</pre>\n"
      ],
      "text/plain": [
       "\u001b[1mModel: \"sequential\"\u001b[0m\n"
      ]
     },
     "metadata": {},
     "output_type": "display_data"
    },
    {
     "data": {
      "text/html": [
       "<pre style=\"white-space:pre;overflow-x:auto;line-height:normal;font-family:Menlo,'DejaVu Sans Mono',consolas,'Courier New',monospace\">┏━━━━━━━━━━━━━━━━━━━━━━━━━━━━━━━━━┳━━━━━━━━━━━━━━━━━━━━━━━━┳━━━━━━━━━━━━━━━┓\n",
       "┃<span style=\"font-weight: bold\"> Layer (type)                    </span>┃<span style=\"font-weight: bold\"> Output Shape           </span>┃<span style=\"font-weight: bold\">       Param # </span>┃\n",
       "┡━━━━━━━━━━━━━━━━━━━━━━━━━━━━━━━━━╇━━━━━━━━━━━━━━━━━━━━━━━━╇━━━━━━━━━━━━━━━┩\n",
       "│ embedding (<span style=\"color: #0087ff; text-decoration-color: #0087ff\">Embedding</span>)           │ (<span style=\"color: #00d7ff; text-decoration-color: #00d7ff\">None</span>, <span style=\"color: #00af00; text-decoration-color: #00af00\">166</span>, <span style=\"color: #00af00; text-decoration-color: #00af00\">300</span>)       │     <span style=\"color: #00af00; text-decoration-color: #00af00\">7,697,400</span> │\n",
       "├─────────────────────────────────┼────────────────────────┼───────────────┤\n",
       "│ bidirectional_lstm_1            │ (<span style=\"color: #00d7ff; text-decoration-color: #00d7ff\">None</span>, <span style=\"color: #00af00; text-decoration-color: #00af00\">166</span>, <span style=\"color: #00af00; text-decoration-color: #00af00\">128</span>)       │       <span style=\"color: #00af00; text-decoration-color: #00af00\">186,880</span> │\n",
       "│ (<span style=\"color: #0087ff; text-decoration-color: #0087ff\">Bidirectional</span>)                 │                        │               │\n",
       "├─────────────────────────────────┼────────────────────────┼───────────────┤\n",
       "│ dropout_1 (<span style=\"color: #0087ff; text-decoration-color: #0087ff\">Dropout</span>)             │ (<span style=\"color: #00d7ff; text-decoration-color: #00d7ff\">None</span>, <span style=\"color: #00af00; text-decoration-color: #00af00\">166</span>, <span style=\"color: #00af00; text-decoration-color: #00af00\">128</span>)       │             <span style=\"color: #00af00; text-decoration-color: #00af00\">0</span> │\n",
       "├─────────────────────────────────┼────────────────────────┼───────────────┤\n",
       "│ bidirectional_lstm_2            │ (<span style=\"color: #00d7ff; text-decoration-color: #00d7ff\">None</span>, <span style=\"color: #00af00; text-decoration-color: #00af00\">166</span>, <span style=\"color: #00af00; text-decoration-color: #00af00\">128</span>)       │        <span style=\"color: #00af00; text-decoration-color: #00af00\">98,816</span> │\n",
       "│ (<span style=\"color: #0087ff; text-decoration-color: #0087ff\">Bidirectional</span>)                 │                        │               │\n",
       "├─────────────────────────────────┼────────────────────────┼───────────────┤\n",
       "│ global_max_pooling              │ (<span style=\"color: #00d7ff; text-decoration-color: #00d7ff\">None</span>, <span style=\"color: #00af00; text-decoration-color: #00af00\">128</span>)            │             <span style=\"color: #00af00; text-decoration-color: #00af00\">0</span> │\n",
       "│ (<span style=\"color: #0087ff; text-decoration-color: #0087ff\">GlobalMaxPooling1D</span>)            │                        │               │\n",
       "├─────────────────────────────────┼────────────────────────┼───────────────┤\n",
       "│ dense_1 (<span style=\"color: #0087ff; text-decoration-color: #0087ff\">Dense</span>)                 │ (<span style=\"color: #00d7ff; text-decoration-color: #00d7ff\">None</span>, <span style=\"color: #00af00; text-decoration-color: #00af00\">32</span>)             │         <span style=\"color: #00af00; text-decoration-color: #00af00\">4,128</span> │\n",
       "├─────────────────────────────────┼────────────────────────┼───────────────┤\n",
       "│ dense_3 (<span style=\"color: #0087ff; text-decoration-color: #0087ff\">Dense</span>)                 │ (<span style=\"color: #00d7ff; text-decoration-color: #00d7ff\">None</span>, <span style=\"color: #00af00; text-decoration-color: #00af00\">7</span>)              │           <span style=\"color: #00af00; text-decoration-color: #00af00\">231</span> │\n",
       "└─────────────────────────────────┴────────────────────────┴───────────────┘\n",
       "</pre>\n"
      ],
      "text/plain": [
       "┏━━━━━━━━━━━━━━━━━━━━━━━━━━━━━━━━━┳━━━━━━━━━━━━━━━━━━━━━━━━┳━━━━━━━━━━━━━━━┓\n",
       "┃\u001b[1m \u001b[0m\u001b[1mLayer (type)                   \u001b[0m\u001b[1m \u001b[0m┃\u001b[1m \u001b[0m\u001b[1mOutput Shape          \u001b[0m\u001b[1m \u001b[0m┃\u001b[1m \u001b[0m\u001b[1m      Param #\u001b[0m\u001b[1m \u001b[0m┃\n",
       "┡━━━━━━━━━━━━━━━━━━━━━━━━━━━━━━━━━╇━━━━━━━━━━━━━━━━━━━━━━━━╇━━━━━━━━━━━━━━━┩\n",
       "│ embedding (\u001b[38;5;33mEmbedding\u001b[0m)           │ (\u001b[38;5;45mNone\u001b[0m, \u001b[38;5;34m166\u001b[0m, \u001b[38;5;34m300\u001b[0m)       │     \u001b[38;5;34m7,697,400\u001b[0m │\n",
       "├─────────────────────────────────┼────────────────────────┼───────────────┤\n",
       "│ bidirectional_lstm_1            │ (\u001b[38;5;45mNone\u001b[0m, \u001b[38;5;34m166\u001b[0m, \u001b[38;5;34m128\u001b[0m)       │       \u001b[38;5;34m186,880\u001b[0m │\n",
       "│ (\u001b[38;5;33mBidirectional\u001b[0m)                 │                        │               │\n",
       "├─────────────────────────────────┼────────────────────────┼───────────────┤\n",
       "│ dropout_1 (\u001b[38;5;33mDropout\u001b[0m)             │ (\u001b[38;5;45mNone\u001b[0m, \u001b[38;5;34m166\u001b[0m, \u001b[38;5;34m128\u001b[0m)       │             \u001b[38;5;34m0\u001b[0m │\n",
       "├─────────────────────────────────┼────────────────────────┼───────────────┤\n",
       "│ bidirectional_lstm_2            │ (\u001b[38;5;45mNone\u001b[0m, \u001b[38;5;34m166\u001b[0m, \u001b[38;5;34m128\u001b[0m)       │        \u001b[38;5;34m98,816\u001b[0m │\n",
       "│ (\u001b[38;5;33mBidirectional\u001b[0m)                 │                        │               │\n",
       "├─────────────────────────────────┼────────────────────────┼───────────────┤\n",
       "│ global_max_pooling              │ (\u001b[38;5;45mNone\u001b[0m, \u001b[38;5;34m128\u001b[0m)            │             \u001b[38;5;34m0\u001b[0m │\n",
       "│ (\u001b[38;5;33mGlobalMaxPooling1D\u001b[0m)            │                        │               │\n",
       "├─────────────────────────────────┼────────────────────────┼───────────────┤\n",
       "│ dense_1 (\u001b[38;5;33mDense\u001b[0m)                 │ (\u001b[38;5;45mNone\u001b[0m, \u001b[38;5;34m32\u001b[0m)             │         \u001b[38;5;34m4,128\u001b[0m │\n",
       "├─────────────────────────────────┼────────────────────────┼───────────────┤\n",
       "│ dense_3 (\u001b[38;5;33mDense\u001b[0m)                 │ (\u001b[38;5;45mNone\u001b[0m, \u001b[38;5;34m7\u001b[0m)              │           \u001b[38;5;34m231\u001b[0m │\n",
       "└─────────────────────────────────┴────────────────────────┴───────────────┘\n"
      ]
     },
     "metadata": {},
     "output_type": "display_data"
    },
    {
     "data": {
      "text/html": [
       "<pre style=\"white-space:pre;overflow-x:auto;line-height:normal;font-family:Menlo,'DejaVu Sans Mono',consolas,'Courier New',monospace\"><span style=\"font-weight: bold\"> Total params: </span><span style=\"color: #00af00; text-decoration-color: #00af00\">7,987,455</span> (30.47 MB)\n",
       "</pre>\n"
      ],
      "text/plain": [
       "\u001b[1m Total params: \u001b[0m\u001b[38;5;34m7,987,455\u001b[0m (30.47 MB)\n"
      ]
     },
     "metadata": {},
     "output_type": "display_data"
    },
    {
     "data": {
      "text/html": [
       "<pre style=\"white-space:pre;overflow-x:auto;line-height:normal;font-family:Menlo,'DejaVu Sans Mono',consolas,'Courier New',monospace\"><span style=\"font-weight: bold\"> Trainable params: </span><span style=\"color: #00af00; text-decoration-color: #00af00\">7,987,455</span> (30.47 MB)\n",
       "</pre>\n"
      ],
      "text/plain": [
       "\u001b[1m Trainable params: \u001b[0m\u001b[38;5;34m7,987,455\u001b[0m (30.47 MB)\n"
      ]
     },
     "metadata": {},
     "output_type": "display_data"
    },
    {
     "data": {
      "text/html": [
       "<pre style=\"white-space:pre;overflow-x:auto;line-height:normal;font-family:Menlo,'DejaVu Sans Mono',consolas,'Courier New',monospace\"><span style=\"font-weight: bold\"> Non-trainable params: </span><span style=\"color: #00af00; text-decoration-color: #00af00\">0</span> (0.00 B)\n",
       "</pre>\n"
      ],
      "text/plain": [
       "\u001b[1m Non-trainable params: \u001b[0m\u001b[38;5;34m0\u001b[0m (0.00 B)\n"
      ]
     },
     "metadata": {},
     "output_type": "display_data"
    },
    {
     "name": "stdout",
     "output_type": "stream",
     "text": [
      "Epoch 1/100\n",
      "\u001b[1m30/30\u001b[0m \u001b[32m━━━━━━━━━━━━━━━━━━━━\u001b[0m\u001b[37m\u001b[0m \u001b[1m10s\u001b[0m 105ms/step - accuracy: 0.1866 - loss: 2.4361 - val_accuracy: 0.1688 - val_loss: 2.2090\n",
      "Epoch 2/100\n",
      "\u001b[1m30/30\u001b[0m \u001b[32m━━━━━━━━━━━━━━━━━━━━\u001b[0m\u001b[37m\u001b[0m \u001b[1m2s\u001b[0m 75ms/step - accuracy: 0.1848 - loss: 2.2042 - val_accuracy: 0.1857 - val_loss: 2.1172\n",
      "Epoch 3/100\n",
      "\u001b[1m30/30\u001b[0m \u001b[32m━━━━━━━━━━━━━━━━━━━━\u001b[0m\u001b[37m\u001b[0m \u001b[1m2s\u001b[0m 75ms/step - accuracy: 0.2063 - loss: 2.1177 - val_accuracy: 0.1899 - val_loss: 2.0534\n",
      "Epoch 4/100\n",
      "\u001b[1m30/30\u001b[0m \u001b[32m━━━━━━━━━━━━━━━━━━━━\u001b[0m\u001b[37m\u001b[0m \u001b[1m2s\u001b[0m 79ms/step - accuracy: 0.2452 - loss: 2.0020 - val_accuracy: 0.1941 - val_loss: 2.0129\n",
      "Epoch 5/100\n",
      "\u001b[1m30/30\u001b[0m \u001b[32m━━━━━━━━━━━━━━━━━━━━\u001b[0m\u001b[37m\u001b[0m \u001b[1m3s\u001b[0m 83ms/step - accuracy: 0.2570 - loss: 1.8920 - val_accuracy: 0.2194 - val_loss: 1.9855\n",
      "Epoch 6/100\n",
      "\u001b[1m30/30\u001b[0m \u001b[32m━━━━━━━━━━━━━━━━━━━━\u001b[0m\u001b[37m\u001b[0m \u001b[1m2s\u001b[0m 81ms/step - accuracy: 0.2651 - loss: 1.8875 - val_accuracy: 0.2068 - val_loss: 1.9639\n",
      "Epoch 7/100\n",
      "\u001b[1m30/30\u001b[0m \u001b[32m━━━━━━━━━━━━━━━━━━━━\u001b[0m\u001b[37m\u001b[0m \u001b[1m2s\u001b[0m 81ms/step - accuracy: 0.2825 - loss: 1.8535 - val_accuracy: 0.1983 - val_loss: 1.9495\n",
      "Epoch 8/100\n",
      "\u001b[1m30/30\u001b[0m \u001b[32m━━━━━━━━━━━━━━━━━━━━\u001b[0m\u001b[37m\u001b[0m \u001b[1m2s\u001b[0m 81ms/step - accuracy: 0.2943 - loss: 1.8237 - val_accuracy: 0.2068 - val_loss: 1.9372\n",
      "Epoch 9/100\n",
      "\u001b[1m30/30\u001b[0m \u001b[32m━━━━━━━━━━━━━━━━━━━━\u001b[0m\u001b[37m\u001b[0m \u001b[1m3s\u001b[0m 83ms/step - accuracy: 0.2995 - loss: 1.8048 - val_accuracy: 0.2068 - val_loss: 1.9276\n",
      "Epoch 10/100\n",
      "\u001b[1m30/30\u001b[0m \u001b[32m━━━━━━━━━━━━━━━━━━━━\u001b[0m\u001b[37m\u001b[0m \u001b[1m2s\u001b[0m 81ms/step - accuracy: 0.2979 - loss: 1.8009 - val_accuracy: 0.2025 - val_loss: 1.9196\n",
      "Epoch 11/100\n",
      "\u001b[1m30/30\u001b[0m \u001b[32m━━━━━━━━━━━━━━━━━━━━\u001b[0m\u001b[37m\u001b[0m \u001b[1m3s\u001b[0m 85ms/step - accuracy: 0.3255 - loss: 1.7521 - val_accuracy: 0.2152 - val_loss: 1.9141\n",
      "Epoch 12/100\n",
      "\u001b[1m30/30\u001b[0m \u001b[32m━━━━━━━━━━━━━━━━━━━━\u001b[0m\u001b[37m\u001b[0m \u001b[1m2s\u001b[0m 81ms/step - accuracy: 0.3519 - loss: 1.7201 - val_accuracy: 0.2194 - val_loss: 1.9104\n",
      "Epoch 13/100\n",
      "\u001b[1m30/30\u001b[0m \u001b[32m━━━━━━━━━━━━━━━━━━━━\u001b[0m\u001b[37m\u001b[0m \u001b[1m2s\u001b[0m 81ms/step - accuracy: 0.3640 - loss: 1.7150 - val_accuracy: 0.2110 - val_loss: 1.9077\n",
      "Epoch 14/100\n",
      "\u001b[1m30/30\u001b[0m \u001b[32m━━━━━━━━━━━━━━━━━━━━\u001b[0m\u001b[37m\u001b[0m \u001b[1m2s\u001b[0m 78ms/step - accuracy: 0.3686 - loss: 1.6951 - val_accuracy: 0.2194 - val_loss: 1.9055\n",
      "Epoch 15/100\n",
      "\u001b[1m30/30\u001b[0m \u001b[32m━━━━━━━━━━━━━━━━━━━━\u001b[0m\u001b[37m\u001b[0m \u001b[1m2s\u001b[0m 79ms/step - accuracy: 0.3453 - loss: 1.7372 - val_accuracy: 0.2194 - val_loss: 1.9058\n",
      "Epoch 16/100\n",
      "\u001b[1m30/30\u001b[0m \u001b[32m━━━━━━━━━━━━━━━━━━━━\u001b[0m\u001b[37m\u001b[0m \u001b[1m3s\u001b[0m 83ms/step - accuracy: 0.3999 - loss: 1.6520 - val_accuracy: 0.2236 - val_loss: 1.9035\n",
      "Epoch 17/100\n",
      "\u001b[1m30/30\u001b[0m \u001b[32m━━━━━━━━━━━━━━━━━━━━\u001b[0m\u001b[37m\u001b[0m \u001b[1m2s\u001b[0m 80ms/step - accuracy: 0.3773 - loss: 1.6613 - val_accuracy: 0.2363 - val_loss: 1.9037\n",
      "Epoch 18/100\n",
      "\u001b[1m30/30\u001b[0m \u001b[32m━━━━━━━━━━━━━━━━━━━━\u001b[0m\u001b[37m\u001b[0m \u001b[1m2s\u001b[0m 80ms/step - accuracy: 0.4148 - loss: 1.6391 - val_accuracy: 0.2405 - val_loss: 1.9034\n",
      "Epoch 19/100\n",
      "\u001b[1m30/30\u001b[0m \u001b[32m━━━━━━━━━━━━━━━━━━━━\u001b[0m\u001b[37m\u001b[0m \u001b[1m3s\u001b[0m 82ms/step - accuracy: 0.4285 - loss: 1.5779 - val_accuracy: 0.2321 - val_loss: 1.9045\n",
      "Epoch 20/100\n",
      "\u001b[1m30/30\u001b[0m \u001b[32m━━━━━━━━━━━━━━━━━━━━\u001b[0m\u001b[37m\u001b[0m \u001b[1m3s\u001b[0m 85ms/step - accuracy: 0.4377 - loss: 1.5635 - val_accuracy: 0.2321 - val_loss: 1.9062\n"
     ]
    }
   ],
   "source": [
    "model7 = model_3(T, V, embedding_matrix)\n",
    "model7.load_weights('poids_modele.weights.h5')\n",
    "\n",
    "model7.pop()\n",
    "model7.add(Dense(7, activation='softmax', name='dense_3'))\n",
    "\n",
    "from keras.optimizers import Adam\n",
    "\n",
    "learning_rate =  0.0001\n",
    "custom_optimizer = Adam(learning_rate=learning_rate)\n",
    "\n",
    "model7.compile(optimizer=custom_optimizer,loss='categorical_crossentropy',metrics=['accuracy'])\n",
    "\n",
    "model7.summary()\n",
    "\n",
    "r_7 = train_model_3(model7, pad_train_7, pad_test_7, y_train_7, y_test_7, 100, 7)\n",
    "\n",
    "training_accuracy(r_7)"
   ]
  },
  {
   "cell_type": "markdown",
   "metadata": {},
   "source": [
    "## Validation du modèle"
   ]
  },
  {
   "cell_type": "code",
   "execution_count": 10,
   "metadata": {},
   "outputs": [
    {
     "name": "stdout",
     "output_type": "stream",
     "text": [
      "\u001b[1m37/37\u001b[0m \u001b[32m━━━━━━━━━━━━━━━━━━━━\u001b[0m\u001b[37m\u001b[0m \u001b[1m2s\u001b[0m 34ms/step\n",
      "Corrélation de rang de Pearson : 0.2581763389130224\n"
     ]
    }
   ],
   "source": [
    "data_val_7 = read_data_cible('data_three/twitter_validation.csv')\n",
    "\n",
    "X_val_7, y_val_7 = split_data(data_val_7)\n",
    "\n",
    "X_val_7 = X_val_7.apply(text_cleaning)\n",
    "\n",
    "y_val_one_hot_7 = to_categorical(y_val_7, num_classes=7)\n",
    "\n",
    "X_val_seq_7 = tokenizer_7.texts_to_sequences(X_val_7)\n",
    "\n",
    "X_val_pad_7 = pad_sequences(X_val_seq_7, maxlen=T_7)\n",
    "\n",
    "y_pred_7 = model7.predict(X_val_pad_7)\n",
    "\n",
    "pearsonr_value_7, _ = evaluate(y_pred_7, y_val_one_hot_7)\n",
    "print(\"Corrélation de rang de Pearson :\", pearsonr_value_7)"
   ]
  }
 ],
 "metadata": {
  "kernelspec": {
   "display_name": "Python 3",
   "language": "python",
   "name": "python3"
  },
  "language_info": {
   "codemirror_mode": {
    "name": "ipython",
    "version": 3
   },
   "file_extension": ".py",
   "mimetype": "text/x-python",
   "name": "python",
   "nbconvert_exporter": "python",
   "pygments_lexer": "ipython3",
   "version": "3.12.3"
  }
 },
 "nbformat": 4,
 "nbformat_minor": 2
}
